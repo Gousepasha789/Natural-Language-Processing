{
  "nbformat": 4,
  "nbformat_minor": 0,
  "metadata": {
    "colab": {
      "provenance": [],
      "authorship_tag": "ABX9TyOvn1/YNGXJvLSLHH/qd+qj",
      "include_colab_link": true
    },
    "kernelspec": {
      "name": "python3",
      "display_name": "Python 3"
    },
    "language_info": {
      "name": "python"
    }
  },
  "cells": [
    {
      "cell_type": "markdown",
      "metadata": {
        "id": "view-in-github",
        "colab_type": "text"
      },
      "source": [
        "<a href=\"https://colab.research.google.com/github/Gousepasha789/Natural-Language-Processing/blob/main/POS_using_HMM.ipynb\" target=\"_parent\"><img src=\"https://colab.research.google.com/assets/colab-badge.svg\" alt=\"Open In Colab\"/></a>"
      ]
    },
    {
      "cell_type": "code",
      "execution_count": 1,
      "metadata": {
        "colab": {
          "base_uri": "https://localhost:8080/"
        },
        "id": "qWeLwXTXRpbJ",
        "outputId": "9dd4f024-0a49-412b-8293-b661d1b09f64"
      },
      "outputs": [
        {
          "output_type": "stream",
          "name": "stdout",
          "text": [
            "Best sequence of POS tags: ['Noun', 'Verb', 'Adjective']\n",
            "Probability of the sequence: 0.03528\n"
          ]
        }
      ],
      "source": [
        "import numpy as np\n",
        "\n",
        "# States (POS tags)\n",
        "states = ('Noun', 'Verb', 'Adjective')\n",
        "\n",
        "# Observations (words)\n",
        "observations = ('dog', 'barks', 'loud')\n",
        "\n",
        "# Start probabilities\n",
        "start_prob = {'Noun': 0.5, 'Verb': 0.3, 'Adjective': 0.2}\n",
        "\n",
        "# Transition probabilities\n",
        "trans_prob = {\n",
        "    'Noun': {'Noun': 0.1, 'Verb': 0.6, 'Adjective': 0.3},\n",
        "    'Verb': {'Noun': 0.4, 'Verb': 0.2, 'Adjective': 0.4},\n",
        "    'Adjective': {'Noun': 0.5, 'Verb': 0.3, 'Adjective': 0.2},\n",
        "}\n",
        "\n",
        "# Emission probabilities\n",
        "emit_prob = {\n",
        "    'Noun': {'dog': 0.6, 'barks': 0.1, 'loud': 0.3},\n",
        "    'Verb': {'dog': 0.2, 'barks': 0.7, 'loud': 0.1},\n",
        "    'Adjective': {'dog': 0.1, 'barks': 0.2, 'loud': 0.7},\n",
        "}\n",
        "\n",
        "def viterbi(obs, states, start_p, trans_p, emit_p):\n",
        "    V = [{}]\n",
        "    path = {}\n",
        "\n",
        "    # Initialize base case\n",
        "    for state in states:\n",
        "        V[0][state] = start_p[state] * emit_p[state].get(obs[0], 0)\n",
        "        path[state] = [state]\n",
        "\n",
        "    # Run Viterbi for t > 0\n",
        "    for t in range(1, len(obs)):\n",
        "        V.append({})\n",
        "        new_path = {}\n",
        "\n",
        "        for curr_state in states:\n",
        "            (prob, prev_state) = max(\n",
        "                (V[t-1][prev_state] * trans_p[prev_state].get(curr_state, 0) * emit_p[curr_state].get(obs[t], 0), prev_state)\n",
        "                for prev_state in states\n",
        "            )\n",
        "            V[t][curr_state] = prob\n",
        "            new_path[curr_state] = path[prev_state] + [curr_state]\n",
        "\n",
        "        path = new_path\n",
        "\n",
        "    # Find the best final state\n",
        "    (prob, best_final_state) = max((V[-1][state], state) for state in states)\n",
        "    return path[best_final_state], prob\n",
        "\n",
        "# Test the Viterbi algorithm\n",
        "best_sequence, best_prob = viterbi(observations, states, start_prob, trans_prob, emit_prob)\n",
        "print(\"Best sequence of POS tags:\", best_sequence)\n",
        "print(\"Probability of the sequence:\", best_prob)\n"
      ]
    }
  ]
}